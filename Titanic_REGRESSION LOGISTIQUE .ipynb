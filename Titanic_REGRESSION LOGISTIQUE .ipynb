{
 "cells": [
  {
   "cell_type": "markdown",
   "metadata": {},
   "source": [
    "## REGRESSION LOGISTIQUE\n",
    "#### 1. Sélectionner les variables explicatives en utilisant l’algorithme Recursive feature elimination. \n",
    "ATTENTION : Cette méthode n’a pas encore été abordée en cours. Néanmoins, elle est simple à appliquer avec scikit-learn. Vous pouvez bien évidement choisir une autre méthode de sélection de variables explicatives.\n",
    "#### 2. Elaborer un modèle de régression logistique pour prédire la variable alive en fonction des variables explicatives choisies.\n",
    "#### 3. Conclure"
   ]
  },
  {
   "cell_type": "markdown",
   "metadata": {},
   "source": [
    "---------------------------------------------------------------------------------------------------------------------"
   ]
  },
  {
   "cell_type": "markdown",
   "metadata": {},
   "source": [
    "### Importer les librairies\n"
   ]
  },
  {
   "cell_type": "code",
   "execution_count": 1,
   "metadata": {},
   "outputs": [],
   "source": [
    "import numpy as np\n",
    "import pandas as pd\n",
    "from sklearn.linear_model import LogisticRegression\n",
    "from sklearn.metrics import classification_report\n",
    "from sklearn.metrics import accuracy_score\n",
    "from sklearn.metrics import confusion_matrix\n",
    "from sklearn.model_selection import train_test_split, cross_val_score\n",
    "from sklearn.feature_selection import RFE\n",
    "from sklearn.feature_selection import RFECV\n",
    "from sklearn.metrics import roc_auc_score, roc_curve, auc\n",
    "from sklearn.feature_selection import SelectKBest\n",
    "from sklearn.feature_selection import chi2\n",
    "from sklearn.feature_selection import f_classif\n",
    "from sklearn.feature_selection import mutual_info_classif\n",
    "from sklearn.decomposition import PCA\n",
    "from numpy import set_printoptions\n",
    "\n",
    "#Visualization Libraries\n",
    "import seaborn as sns\n",
    "import matplotlib.pyplot as plt\n",
    "%matplotlib inline"
   ]
  },
  {
   "cell_type": "markdown",
   "metadata": {},
   "source": [
    "### Importer la dataset et l'explorer"
   ]
  },
  {
   "cell_type": "code",
   "execution_count": 189,
   "metadata": {},
   "outputs": [
    {
     "data": {
      "text/html": [
       "<div>\n",
       "<style scoped>\n",
       "    .dataframe tbody tr th:only-of-type {\n",
       "        vertical-align: middle;\n",
       "    }\n",
       "\n",
       "    .dataframe tbody tr th {\n",
       "        vertical-align: top;\n",
       "    }\n",
       "\n",
       "    .dataframe thead th {\n",
       "        text-align: right;\n",
       "    }\n",
       "</style>\n",
       "<table border=\"1\" class=\"dataframe\">\n",
       "  <thead>\n",
       "    <tr style=\"text-align: right;\">\n",
       "      <th></th>\n",
       "      <th>PassengerId</th>\n",
       "      <th>Survived</th>\n",
       "      <th>Pclass</th>\n",
       "      <th>Name</th>\n",
       "      <th>Sex</th>\n",
       "      <th>Age</th>\n",
       "      <th>SibSp</th>\n",
       "      <th>Parch</th>\n",
       "      <th>Ticket</th>\n",
       "      <th>Fare</th>\n",
       "      <th>Embarked</th>\n",
       "      <th>Age_categories</th>\n",
       "    </tr>\n",
       "  </thead>\n",
       "  <tbody>\n",
       "    <tr>\n",
       "      <th>0</th>\n",
       "      <td>1</td>\n",
       "      <td>0</td>\n",
       "      <td>3</td>\n",
       "      <td>Braund, Mr. Owen Harris</td>\n",
       "      <td>male</td>\n",
       "      <td>22.0</td>\n",
       "      <td>1</td>\n",
       "      <td>0</td>\n",
       "      <td>A/5 21171</td>\n",
       "      <td>7.2500</td>\n",
       "      <td>S</td>\n",
       "      <td>Young Adult</td>\n",
       "    </tr>\n",
       "    <tr>\n",
       "      <th>1</th>\n",
       "      <td>2</td>\n",
       "      <td>1</td>\n",
       "      <td>1</td>\n",
       "      <td>Cumings, Mrs. John Bradley (Florence Briggs Th...</td>\n",
       "      <td>female</td>\n",
       "      <td>38.0</td>\n",
       "      <td>1</td>\n",
       "      <td>0</td>\n",
       "      <td>PC 17599</td>\n",
       "      <td>71.2833</td>\n",
       "      <td>C</td>\n",
       "      <td>Adult</td>\n",
       "    </tr>\n",
       "    <tr>\n",
       "      <th>2</th>\n",
       "      <td>3</td>\n",
       "      <td>1</td>\n",
       "      <td>3</td>\n",
       "      <td>Heikkinen, Miss. Laina</td>\n",
       "      <td>female</td>\n",
       "      <td>26.0</td>\n",
       "      <td>0</td>\n",
       "      <td>0</td>\n",
       "      <td>STON/O2. 3101282</td>\n",
       "      <td>7.9250</td>\n",
       "      <td>S</td>\n",
       "      <td>Young Adult</td>\n",
       "    </tr>\n",
       "    <tr>\n",
       "      <th>3</th>\n",
       "      <td>4</td>\n",
       "      <td>1</td>\n",
       "      <td>1</td>\n",
       "      <td>Futrelle, Mrs. Jacques Heath (Lily May Peel)</td>\n",
       "      <td>female</td>\n",
       "      <td>35.0</td>\n",
       "      <td>1</td>\n",
       "      <td>0</td>\n",
       "      <td>113803</td>\n",
       "      <td>53.1000</td>\n",
       "      <td>S</td>\n",
       "      <td>Young Adult</td>\n",
       "    </tr>\n",
       "    <tr>\n",
       "      <th>4</th>\n",
       "      <td>5</td>\n",
       "      <td>0</td>\n",
       "      <td>3</td>\n",
       "      <td>Allen, Mr. William Henry</td>\n",
       "      <td>male</td>\n",
       "      <td>35.0</td>\n",
       "      <td>0</td>\n",
       "      <td>0</td>\n",
       "      <td>373450</td>\n",
       "      <td>8.0500</td>\n",
       "      <td>S</td>\n",
       "      <td>Young Adult</td>\n",
       "    </tr>\n",
       "  </tbody>\n",
       "</table>\n",
       "</div>"
      ],
      "text/plain": [
       "   PassengerId  Survived  Pclass  \\\n",
       "0            1         0       3   \n",
       "1            2         1       1   \n",
       "2            3         1       3   \n",
       "3            4         1       1   \n",
       "4            5         0       3   \n",
       "\n",
       "                                                Name     Sex   Age  SibSp  \\\n",
       "0                            Braund, Mr. Owen Harris    male  22.0      1   \n",
       "1  Cumings, Mrs. John Bradley (Florence Briggs Th...  female  38.0      1   \n",
       "2                             Heikkinen, Miss. Laina  female  26.0      0   \n",
       "3       Futrelle, Mrs. Jacques Heath (Lily May Peel)  female  35.0      1   \n",
       "4                           Allen, Mr. William Henry    male  35.0      0   \n",
       "\n",
       "   Parch            Ticket     Fare Embarked Age_categories  \n",
       "0      0         A/5 21171   7.2500        S    Young Adult  \n",
       "1      0          PC 17599  71.2833        C          Adult  \n",
       "2      0  STON/O2. 3101282   7.9250        S    Young Adult  \n",
       "3      0            113803  53.1000        S    Young Adult  \n",
       "4      0            373450   8.0500        S    Young Adult  "
      ]
     },
     "execution_count": 189,
     "metadata": {},
     "output_type": "execute_result"
    }
   ],
   "source": [
    "data = pd.read_csv('trainClean.csv', sep=',', encoding='utf-8')\n",
    "data.head()"
   ]
  },
  {
   "cell_type": "markdown",
   "metadata": {},
   "source": [
    "#### Simuler (Dummy) les catégorielles features de la dataset"
   ]
  },
  {
   "cell_type": "markdown",
   "metadata": {},
   "source": [
    "   ##### Compter le nombre de  catégorielles features que nous avons dans l'ensemble de données"
   ]
  },
  {
   "cell_type": "code",
   "execution_count": 190,
   "metadata": {},
   "outputs": [
    {
     "data": {
      "text/plain": [
       "['Sex', 'Age_categories', 'Ticket', 'Name', 'Embarked']"
      ]
     },
     "execution_count": 190,
     "metadata": {},
     "output_type": "execute_result"
    }
   ],
   "source": [
    "categorical_feature_columns = list(set(data.columns) - set(data._get_numeric_data().columns))\n",
    "categorical_feature_columns"
   ]
  },
  {
   "cell_type": "markdown",
   "metadata": {},
   "source": [
    "**Nous allons supprimer les deux colonnes: Nom et Ticket (car elles ne contiennent pas d'informations utiles pour nous) et facturer et aprés supprimer le reste des colonnes **"
   ]
  },
  {
   "cell_type": "code",
   "execution_count": 4,
   "metadata": {},
   "outputs": [],
   "source": [
    "def create_dummies(df,column_name):\n",
    "    dummies = pd.get_dummies(df[column_name],prefix=column_name)\n",
    "    df = pd.concat([df,dummies],axis=1)\n",
    "    return df"
   ]
  },
  {
   "cell_type": "code",
   "execution_count": 191,
   "metadata": {},
   "outputs": [],
   "source": [
    "data = create_dummies(data,\"Sex\")"
   ]
  },
  {
   "cell_type": "code",
   "execution_count": 192,
   "metadata": {},
   "outputs": [],
   "source": [
    "data = create_dummies(data,\"Age_categories\")"
   ]
  },
  {
   "cell_type": "code",
   "execution_count": 193,
   "metadata": {},
   "outputs": [],
   "source": [
    "data = create_dummies(data,\"Embarked\")"
   ]
  },
  {
   "cell_type": "code",
   "execution_count": 194,
   "metadata": {},
   "outputs": [],
   "source": [
    "data=data.drop(['Name','Ticket','Sex','Sex_male','Age_categories','Embarked','PassengerId'], axis=1)"
   ]
  },
  {
   "cell_type": "code",
   "execution_count": 195,
   "metadata": {},
   "outputs": [
    {
     "name": "stdout",
     "output_type": "stream",
     "text": [
      "<class 'pandas.core.frame.DataFrame'>\n",
      "RangeIndex: 889 entries, 0 to 888\n",
      "Data columns (total 17 columns):\n",
      "Survived                      889 non-null int64\n",
      "Pclass                        889 non-null int64\n",
      "Age                           889 non-null float64\n",
      "SibSp                         889 non-null int64\n",
      "Parch                         889 non-null int64\n",
      "Fare                          889 non-null float64\n",
      "Sex_female                    889 non-null uint8\n",
      "Age_categories_Adult          889 non-null uint8\n",
      "Age_categories_Child          889 non-null uint8\n",
      "Age_categories_Infant         889 non-null uint8\n",
      "Age_categories_Missing        889 non-null uint8\n",
      "Age_categories_Senior         889 non-null uint8\n",
      "Age_categories_Teenager       889 non-null uint8\n",
      "Age_categories_Young Adult    889 non-null uint8\n",
      "Embarked_C                    889 non-null uint8\n",
      "Embarked_Q                    889 non-null uint8\n",
      "Embarked_S                    889 non-null uint8\n",
      "dtypes: float64(2), int64(4), uint8(11)\n",
      "memory usage: 51.3 KB\n"
     ]
    }
   ],
   "source": [
    "data.info()"
   ]
  },
  {
   "cell_type": "markdown",
   "metadata": {},
   "source": [
    "### Création d'un train set et validation set"
   ]
  },
  {
   "cell_type": "code",
   "execution_count": 196,
   "metadata": {},
   "outputs": [],
   "source": [
    "X = data.drop(['Survived'], axis=1)\n",
    "y = data['Survived']\n",
    "X_train, X_valid, y_train, y_valid = train_test_split(X, y, test_size=0.2, random_state=5)\n",
    "#X.columns"
   ]
  },
  {
   "cell_type": "code",
   "execution_count": 197,
   "metadata": {},
   "outputs": [
    {
     "name": "stdout",
     "output_type": "stream",
     "text": [
      "(711, 16) \n",
      "\n",
      "(178, 16) \n",
      "\n",
      "(711,) \n",
      "\n",
      "(178,) \n",
      "\n"
     ]
    }
   ],
   "source": [
    "print(X_train.shape,'\\n')\n",
    "print(X_valid.shape,'\\n')\n",
    "print(y_train.shape,'\\n')\n",
    "print(y_valid.shape,'\\n')"
   ]
  },
  {
   "cell_type": "markdown",
   "metadata": {},
   "source": [
    "###### Compter le nombre de passagers survivants et non survivants dans l'ensemble de données de validation"
   ]
  },
  {
   "cell_type": "code",
   "execution_count": 198,
   "metadata": {},
   "outputs": [
    {
     "data": {
      "text/plain": [
       "Survived    119\n",
       "dtype: int64"
      ]
     },
     "execution_count": 198,
     "metadata": {},
     "output_type": "execute_result"
    }
   ],
   "source": [
    "Alive=pd.DataFrame(y_valid, columns = ['Survived'])\n",
    "Alive[Alive['Survived']==0].count()"
   ]
  },
  {
   "cell_type": "code",
   "execution_count": 199,
   "metadata": {},
   "outputs": [
    {
     "data": {
      "text/plain": [
       "Survived    59\n",
       "dtype: int64"
      ]
     },
     "execution_count": 199,
     "metadata": {},
     "output_type": "execute_result"
    }
   ],
   "source": [
    "Alive[Alive['Survived']==1].count()"
   ]
  },
  {
   "cell_type": "markdown",
   "metadata": {},
   "source": [
    "### 1. Model de regression logistique en utilisant tout les features "
   ]
  },
  {
   "cell_type": "code",
   "execution_count": 200,
   "metadata": {},
   "outputs": [],
   "source": [
    "regLogistic=LogisticRegression(solver='newton-cg', multi_class='auto', penalty ='l2', random_state = None)"
   ]
  },
  {
   "cell_type": "markdown",
   "metadata": {},
   "source": [
    "###### Fonction pour former, valider et évaluer le modèle de régression logistique"
   ]
  },
  {
   "cell_type": "code",
   "execution_count": 228,
   "metadata": {},
   "outputs": [],
   "source": [
    "#from pandas_ml import ConfusionMatrix\n",
    "def logisticeModel(columNames):\n",
    "    logReg_model = regLogistic.fit(X_train[columNames], y_train)\n",
    "    #Test the model\n",
    "    y_pred = logReg_model.predict(X_valid[columNames])\n",
    "    \n",
    "    #print(classification_report(y_valid, y_pred))\n",
    "\n",
    "    print('\\033[1m' + 'Accuracy score: '+'\\033[0m',accuracy_score(y_valid, y_pred)) # le plus important pour le moment; précisément la première ligne\n",
    "    fig = plt.figure()\n",
    "    # Matrice de confusion\n",
    "    ax= plt.subplot()\n",
    "    sns.heatmap(confusion_matrix(y_valid,y_pred), annot=True, ax = ax ,fmt='g'); #annot=True to annotate cells\n",
    "    ax.set_xlabel('Valeurs prédites');ax.set_ylabel('Valeurs réelles'); \n",
    "    ax.set_title('Confusion Matrix'); \n",
    "    bottom, top = ax.get_ylim()\n",
    "    ax.set_ylim(bottom + 0.5, top - 0.5)\n",
    "    ax.xaxis.set_ticklabels(['Décédé', 'Vivante']); ax.yaxis.set_ticklabels(['Décédé', 'Vivante']);\n",
    "    \n",
    "    print('\\n')\n",
    "    # Calculer et visualiser ROC et AUC\n",
    "    proba = logReg_model.predict_proba(X_valid[columNames])\n",
    "    fpr0, tpr0, thresholds0 = roc_curve(y_valid, proba[:, 1], pos_label=logReg_model.classes_[1], drop_intermediate=False)\n",
    "    #thresholds0.shape\n",
    "    fig, ax = plt.subplots(1, 1, figsize=(6,6))\n",
    "    ax.plot([0, 1], [0, 1], 'k--')\n",
    "    aucf = auc(fpr0, tpr0)\n",
    "    ax.plot(fpr0, tpr0, label='auc=%1.5f' % aucf)\n",
    "    ax.set_title('Courbe ROC')\n",
    "    ax.text(0.5, 0.3, \"plus mauvais que\\nle hasard dans\\ncette zone\")\n",
    "    ax.legend();"
   ]
  },
  {
   "cell_type": "markdown",
   "metadata": {},
   "source": [
    "###### Les résultats du premier modèle en prenant toutes les features de l'ensemble de données"
   ]
  },
  {
   "cell_type": "code",
   "execution_count": 229,
   "metadata": {},
   "outputs": [
    {
     "name": "stdout",
     "output_type": "stream",
     "text": [
      "\u001b[1mAccuracy score: \u001b[0m 0.8539325842696629\n",
      "\n",
      "\n"
     ]
    },
    {
     "data": {
      "image/png": "[encoded data removed]",
      "text/plain": [
       "<Figure size 432x288 with 2 Axes>"
      ]
     },
     "metadata": {
      "needs_background": "light"
     },
     "output_type": "display_data"
    },
    {
     "data": {
      "image/png": "[encoded data removed]",
      "text/plain": [
       "<Figure size 432x432 with 1 Axes>"
      ]
     },
     "metadata": {
      "needs_background": "light"
     },
     "output_type": "display_data"
    }
   ],
   "source": [
    "logisticeModel(X_train.columns.tolist())"
   ]
  },
  {
   "cell_type": "markdown",
   "metadata": {},
   "source": [
    "<p> Même si nous avons obtenu une bonne valeur pour la précision avec toutes les fonctionnalités, nous avons essayé de choisir les fonctionnalités les plus explicatives pour minimiser le temps total de training, pour cela nous avons essayé plusieurs algorithmes pour la sélection des features, qui sont: Recursive feature elimination (RFE), Recursive feature elimination avec cross-validation (RFECV), Univariate Feature Selection (SelectKBest), PCA, features meilleure combinaison </p>"
   ]
  },
  {
   "cell_type": "markdown",
   "metadata": {},
   "source": [
    "### 2.Model de regression logistique par sélectionner les variables explicatives en utilisant l’algorithme Recursive feature elimination (RFE). "
   ]
  },
  {
   "cell_type": "markdown",
   "metadata": {},
   "source": [
    "<p> Étant donné un estimateur externe qui attribue des poids aux caractéristiques (par exemple, les coefficients d'un modèle linéaire), l'élimination récursive des caractéristiques (RFE) consiste à sélectionner les caractéristiques en considérant récursivement des ensembles de plus en plus petits de caractéristiques. Premièrement, l'estimateur est formé sur l'ensemble initial de caractéristiques et des poids sont attribués à chacun d'eux. Ensuite, les entités dont les poids absolus sont les plus petits sont élaguées à partir des entités définies actuellement. Cette procédure est répétée récursivement sur l'ensemble élagué jusqu'à ce que le nombre souhaité de caractéristiques à sélectionner soit finalement atteint. </p>"
   ]
  },
  {
   "cell_type": "code",
   "execution_count": 214,
   "metadata": {},
   "outputs": [
    {
     "name": "stdout",
     "output_type": "stream",
     "text": [
      "\n",
      " \u001b[1mFeatures triées si elles ont été prises ou non par l'algo RFE \u001b[0m\n",
      "[(False, 'Age'), (False, 'Fare'), (True, 'Age_categories_Adult'), (True, 'Age_categories_Child'), (True, 'Age_categories_Infant'), (True, 'Age_categories_Missing'), (True, 'Age_categories_Senior'), (True, 'Age_categories_Teenager'), (True, 'Age_categories_Young Adult'), (True, 'Embarked_C'), (True, 'Embarked_Q'), (True, 'Embarked_S'), (True, 'Parch'), (True, 'Pclass'), (True, 'Sex_female'), (True, 'SibSp')]\n",
      "\n",
      " \u001b[1mFeatures triées par leurs rangs \u001b[0m\n",
      "[(1, 'Age_categories_Adult'), (1, 'Age_categories_Child'), (1, 'Age_categories_Infant'), (1, 'Age_categories_Missing'), (1, 'Age_categories_Senior'), (1, 'Age_categories_Teenager'), (1, 'Age_categories_Young Adult'), (1, 'Embarked_C'), (1, 'Embarked_Q'), (1, 'Embarked_S'), (1, 'Parch'), (1, 'Pclass'), (1, 'Sex_female'), (1, 'SibSp'), (2, 'Age'), (3, 'Fare')]\n"
     ]
    }
   ],
   "source": [
    "from sklearn.feature_selection import RFE\n",
    "# utilise regression logistique comme estimator\n",
    "# classer toutes les features, c.a.d poursuivre l'élimination jusqu'à la dernière\n",
    "rfe=RFE(regLogistic,n_features_to_select=14)\n",
    "names=X_train.columns.tolist()\n",
    "rfe.fit(X_train,y_train)\n",
    "print('\\n','\\033[1m' + \"Features triées si elles ont été prises ou non par l'algo RFE \"+'\\033[0m')\n",
    "print(sorted(zip(rfe.support_,names)))\n",
    "print('\\n','\\033[1m' + \"Features triées par leurs rangs \"+'\\033[0m')\n",
    "print(sorted(zip(map(lambda x: round(x,4),rfe.ranking_),names)))"
   ]
  },
  {
   "cell_type": "markdown",
   "metadata": {},
   "source": [
    "<p> Créer la régression logistique en utilisant les featrues choisies par RFE </p>"
   ]
  },
  {
   "cell_type": "code",
   "execution_count": 221,
   "metadata": {},
   "outputs": [
    {
     "name": "stdout",
     "output_type": "stream",
     "text": [
      "\u001b[1mAccuracy score: \u001b[0m 0.8651685393258427\n",
      "\n",
      "\n"
     ]
    },
    {
     "data": {
      "image/png": "[encoded data removed]",
      "text/plain": [
       "<Figure size 432x288 with 2 Axes>"
      ]
     },
     "metadata": {
      "needs_background": "light"
     },
     "output_type": "display_data"
    },
    {
     "data": {
      "image/png": "[encoded data removed]",
      "text/plain": [
       "<Figure size 432x432 with 1 Axes>"
      ]
     },
     "metadata": {
      "needs_background": "light"
     },
     "output_type": "display_data"
    }
   ],
   "source": [
    "#colNmae=['Sex_female','Age_categories_Infant','Pclass',]\n",
    "colNmae=['Sex_female', 'Age_categories_Infant', 'Pclass', 'Age_categories_Senior', 'Age_categories_Adult', 'Embarked_S', 'Age_categories_Child', 'SibSp', 'Age_categories_Missing', 'Age_categories_Teenager', 'Parch','Age']\n",
    "#colNmae=['Age_categories_Infant', 'Age_categories_Senior', 'Pclass', 'Sex_female','Age_categories_Adult','Embarked_S','Age_categories_Child','Age_categories_Missing','Age_categories_Teenager','Parch','SibSp','Age']\n",
    "#colNmae=['Embarked_C', 'Embarked_Q', 'Embarked_S','Parch','Pclass','Sex_female','SibSp']\n",
    "\n",
    "logisticeModel(colNmae)"
   ]
  },
  {
   "cell_type": "markdown",
   "metadata": {},
   "source": [
    "### 3. Model regression logistique par sélectionner les variables explicatives en utilisant l’algorithme Recursive feature elimination avec cross-validation (RFECV). "
   ]
  },
  {
   "cell_type": "markdown",
   "metadata": {},
   "source": [
    "<p> RFECV permet de régler ou de trouver ce paramètre n_features à l'aide de la validation croisée. Pour chaque étape où le nombre de fonctionnalités est éliminé, il calcule le score sur les données de validation. Le nombre de fonctionnalités laissées à l'étape qui donne le score maximum sur les données de validation, est considéré comme \"le meilleur n_features\" de les données. </p>"
   ]
  },
  {
   "cell_type": "code",
   "execution_count": 216,
   "metadata": {},
   "outputs": [
    {
     "name": "stdout",
     "output_type": "stream",
     "text": [
      "Nombre optimal de features : 14\n",
      "Meilleures features : Index(['Pclass', 'SibSp', 'Parch', 'Sex_female', 'Age_categories_Adult',\n",
      "       'Age_categories_Child', 'Age_categories_Infant',\n",
      "       'Age_categories_Missing', 'Age_categories_Senior',\n",
      "       'Age_categories_Teenager', 'Age_categories_Young Adult', 'Embarked_C',\n",
      "       'Embarked_Q', 'Embarked_S'],\n",
      "      dtype='object')\n"
     ]
    }
   ],
   "source": [
    "rfecv = RFECV(estimator=regLogistic, step=1, cv=5, scoring='accuracy')\n",
    "rfecv = rfecv.fit(X_train, y_train)\n",
    "print('Nombre optimal de features :', rfecv.n_features_)\n",
    "print('Meilleures features :', X_train.columns[rfecv.support_])"
   ]
  },
  {
   "cell_type": "code",
   "execution_count": 217,
   "metadata": {},
   "outputs": [
    {
     "data": {
      "text/plain": [
       "0.8539325842696629"
      ]
     },
     "execution_count": 217,
     "metadata": {},
     "output_type": "execute_result"
    }
   ],
   "source": [
    "rfecv.score(X_valid, y_valid)"
   ]
  },
  {
   "cell_type": "code",
   "execution_count": 218,
   "metadata": {},
   "outputs": [
    {
     "data": {
      "image/png": "[encoded data removed]",
      "text/plain": [
       "<Figure size 432x288 with 1 Axes>"
      ]
     },
     "metadata": {
      "needs_background": "light"
     },
     "output_type": "display_data"
    }
   ],
   "source": [
    "plt.figure()\n",
    "plt.xlabel(\"Number of features selected\")\n",
    "plt.ylabel(\"Cross validation score of number of selected features\")\n",
    "plt.plot(range(1, len(rfecv.grid_scores_) + 1), rfecv.grid_scores_)\n",
    "plt.show()"
   ]
  },
  {
   "cell_type": "code",
   "execution_count": 219,
   "metadata": {},
   "outputs": [],
   "source": [
    "# Get columns to keep and create new dataframe with those only\n",
    "cols = rfecv.get_support(indices=True)\n",
    "#features_df_new = X_train.iloc[:,cols].names\n",
    "#features_df_new\n",
    "selectedColumns=X_train.columns[cols].tolist()\n",
    "#selectedColumns"
   ]
  },
  {
   "cell_type": "markdown",
   "metadata": {},
   "source": [
    "<p> Créer la régression logistique en utilisant les featrues choisies par RFECV </p>"
   ]
  },
  {
   "cell_type": "code",
   "execution_count": 220,
   "metadata": {},
   "outputs": [
    {
     "name": "stdout",
     "output_type": "stream",
     "text": [
      "\u001b[1mAccuracy score: \u001b[0m 0.8539325842696629\n",
      "\n",
      "\n"
     ]
    },
    {
     "data": {
      "image/png": "[encoded data removed]",
      "text/plain": [
       "<Figure size 432x288 with 2 Axes>"
      ]
     },
     "metadata": {
      "needs_background": "light"
     },
     "output_type": "display_data"
    },
    {
     "data": {
      "image/png": "[encoded data removed]",
      "text/plain": [
       "<Figure size 432x432 with 1 Axes>"
      ]
     },
     "metadata": {
      "needs_background": "light"
     },
     "output_type": "display_data"
    }
   ],
   "source": [
    "logisticeModel(selectedColumns)"
   ]
  },
  {
   "cell_type": "markdown",
   "metadata": {},
   "source": [
    "### 4. Model de regression logistique en utilisant SelectKBest"
   ]
  },
  {
   "cell_type": "markdown",
   "metadata": {},
   "source": [
    "<p> La sélection des fonctionnalités univariées (Univariate feature selection) fonctionne en sélectionnant les meilleures features sur la base de tests statistiques univariés. Il peut être considéré comme une étape de prétraitement d'un estimateur.\n",
    "    \n",
    "  SelectKBest est une méthode de sélection des fonctionnalités prise en charge par Scikit-learn, qui supprime toutes les fonctionnalités ayant le score le plus élevé, sauf les k.\n",
    "  \n",
    "  SelectKBest prend en entrée une fonction de notation et renvoie des scores univariés pour chaque feature.\n",
    "  \n",
    "    Les fonction de notation pour la régression: f_regression, mutual_info_regression\n",
    "    et pour la classification: chi2, f_classif, mutual_info_classif \n",
    "    \n",
    "</p>"
   ]
  },
  {
   "cell_type": "code",
   "execution_count": 272,
   "metadata": {},
   "outputs": [
    {
     "data": {
      "text/plain": [
       "SelectKBest(k=14, score_func=<function f_classif at 0x000001CFDDECC708>)"
      ]
     },
     "execution_count": 272,
     "metadata": {},
     "output_type": "execute_result"
    }
   ],
   "source": [
    "# Create and fit selector\n",
    "selector = SelectKBest(f_classif, k=14)\n",
    "#selector = SelectKBest(mutual_info_classif, k=14)\n",
    "#selector = SelectKBest(chi2, k=14)\n",
    "selector.fit(X_train,y_train)"
   ]
  },
  {
   "cell_type": "code",
   "execution_count": 273,
   "metadata": {},
   "outputs": [
    {
     "name": "stdout",
     "output_type": "stream",
     "text": [
      "Feature 0: 89.665844\n",
      "Feature 1: 7.134597\n",
      "Feature 2: 0.363721\n",
      "Feature 3: 2.786917\n",
      "Feature 4: 55.360156\n",
      "Feature 5: 258.873901\n",
      "Feature 6: 0.165187\n",
      "Feature 7: 0.094480\n",
      "Feature 8: 21.943181\n",
      "Feature 9: 5.516571\n",
      "Feature 10: 2.789061\n",
      "Feature 11: 0.094404\n",
      "Feature 12: 0.427720\n",
      "Feature 13: 24.094856\n",
      "Feature 14: 0.018690\n",
      "Feature 15: 17.694942\n"
     ]
    }
   ],
   "source": [
    "# what are scores for the features\n",
    "for i in range(len(selector.scores_)):\n",
    "\tprint('Feature %d: %f' % (i, selector.scores_[i]))"
   ]
  },
  {
   "cell_type": "code",
   "execution_count": 274,
   "metadata": {},
   "outputs": [
    {
     "data": {
      "image/png": "[encoded data removed]",
      "text/plain": [
       "<Figure size 432x288 with 1 Axes>"
      ]
     },
     "metadata": {
      "needs_background": "light"
     },
     "output_type": "display_data"
    }
   ],
   "source": [
    "# plot the scores\n",
    "from matplotlib import pyplot\n",
    "pyplot.bar([i for i in range(len(selector.scores_))], selector.scores_)\n",
    "pyplot.show()"
   ]
  },
  {
   "cell_type": "code",
   "execution_count": 275,
   "metadata": {},
   "outputs": [
    {
     "data": {
      "text/plain": [
       "['Pclass',\n",
       " 'Age',\n",
       " 'SibSp',\n",
       " 'Parch',\n",
       " 'Fare',\n",
       " 'Sex_female',\n",
       " 'Age_categories_Adult',\n",
       " 'Age_categories_Child',\n",
       " 'Age_categories_Infant',\n",
       " 'Age_categories_Missing',\n",
       " 'Age_categories_Senior',\n",
       " 'Age_categories_Young Adult',\n",
       " 'Embarked_C',\n",
       " 'Embarked_S']"
      ]
     },
     "execution_count": 275,
     "metadata": {},
     "output_type": "execute_result"
    }
   ],
   "source": [
    "# Get columns to keep and create new dataframe with those only\n",
    "cols = selector.get_support(indices=True)\n",
    "#features_df_new = X_train.iloc[:,cols].names\n",
    "#features_df_new\n",
    "selectedColumns=X_train.columns[cols].tolist()\n",
    "selectedColumns"
   ]
  },
  {
   "cell_type": "code",
   "execution_count": 276,
   "metadata": {},
   "outputs": [
    {
     "name": "stdout",
     "output_type": "stream",
     "text": [
      "\u001b[1mAccuracy score: \u001b[0m 0.8539325842696629\n",
      "\n",
      "\n"
     ]
    },
    {
     "data": {
      "image/png": "[encoded data removed]",
      "text/plain": [
       "<Figure size 432x288 with 2 Axes>"
      ]
     },
     "metadata": {
      "needs_background": "light"
     },
     "output_type": "display_data"
    },
    {
     "data": {
      "image/png": "[encoded data removed]",
      "text/plain": [
       "<Figure size 432x432 with 1 Axes>"
      ]
     },
     "metadata": {
      "needs_background": "light"
     },
     "output_type": "display_data"
    }
   ],
   "source": [
    "logisticeModel(selectedColumns)"
   ]
  },
  {
   "cell_type": "markdown",
   "metadata": {},
   "source": [
    "### 5. Model de regression logistique en utilisant PCA"
   ]
  },
  {
   "cell_type": "markdown",
   "metadata": {},
   "source": [
    "<p> PCA sert a accélérer un algorithme d'apprentissage lorsqu'il est trop lent parce que la dimension d'entrée est trop élevée. Un autre application c'est pour de la visualisation mais c'est moins courant.</p>"
   ]
  },
  {
   "cell_type": "code",
   "execution_count": 277,
   "metadata": {},
   "outputs": [],
   "source": [
    "from sklearn.preprocessing import StandardScaler\n",
    "scaler = StandardScaler()\n",
    "# Fit on training set only.\n",
    "scaler.fit(X_train)\n",
    "# Apply transform to both the training set and the test set.\n",
    "xTrain = scaler.transform(X_train)\n",
    "xValid = scaler.transform(X_valid)"
   ]
  },
  {
   "cell_type": "code",
   "execution_count": 278,
   "metadata": {},
   "outputs": [],
   "source": [
    "from sklearn.decomposition import PCA\n",
    "# Make an instance of the Model\n",
    "pca = PCA(.95)"
   ]
  },
  {
   "cell_type": "code",
   "execution_count": 279,
   "metadata": {},
   "outputs": [
    {
     "data": {
      "text/plain": [
       "PCA(copy=True, iterated_power='auto', n_components=0.95, random_state=None,\n",
       "    svd_solver='auto', tol=0.0, whiten=False)"
      ]
     },
     "execution_count": 279,
     "metadata": {},
     "output_type": "execute_result"
    }
   ],
   "source": [
    "pca.fit(xTrain)"
   ]
  },
  {
   "cell_type": "code",
   "execution_count": 280,
   "metadata": {},
   "outputs": [
    {
     "data": {
      "text/plain": [
       "12"
      ]
     },
     "execution_count": 280,
     "metadata": {},
     "output_type": "execute_result"
    }
   ],
   "source": [
    "# nombre de features PCA choici pour garder %95 de varaince\n",
    "pca.n_components_"
   ]
  },
  {
   "cell_type": "code",
   "execution_count": 281,
   "metadata": {},
   "outputs": [],
   "source": [
    "# Apply the mapping (transform) to both the training set and the test set.\n",
    "xTrain = pca.transform(xTrain)\n",
    "xValid = pca.transform(xValid)"
   ]
  },
  {
   "cell_type": "code",
   "execution_count": 282,
   "metadata": {},
   "outputs": [
    {
     "data": {
      "text/plain": [
       "LogisticRegression(C=1.0, class_weight=None, dual=False, fit_intercept=True,\n",
       "                   intercept_scaling=1, l1_ratio=None, max_iter=100,\n",
       "                   multi_class='auto', n_jobs=None, penalty='l2',\n",
       "                   random_state=None, solver='newton-cg', tol=0.0001, verbose=0,\n",
       "                   warm_start=False)"
      ]
     },
     "execution_count": 282,
     "metadata": {},
     "output_type": "execute_result"
    }
   ],
   "source": [
    "# Apply Logistic Regression to the Transformed Data\n",
    "logReg_model.fit(xTrain,y_train)\n"
   ]
  },
  {
   "cell_type": "markdown",
   "metadata": {},
   "source": [
    "###### PCA model evaluation"
   ]
  },
  {
   "cell_type": "code",
   "execution_count": 283,
   "metadata": {},
   "outputs": [
    {
     "data": {
      "text/plain": [
       "0.8426966292134831"
      ]
     },
     "execution_count": 283,
     "metadata": {},
     "output_type": "execute_result"
    }
   ],
   "source": [
    "pca_predict=logReg_model.predict(xValid)\n",
    "# Evaluate the model\n",
    "logReg_model.score(xValid, y_valid)"
   ]
  },
  {
   "cell_type": "code",
   "execution_count": 284,
   "metadata": {},
   "outputs": [
    {
     "name": "stdout",
     "output_type": "stream",
     "text": [
      "\u001b[1mAccuracy score: \u001b[0m 0.8426966292134831\n",
      "\n",
      "\n"
     ]
    },
    {
     "data": {
      "image/png": "[encoded data removed]",
      "text/plain": [
       "<Figure size 432x288 with 2 Axes>"
      ]
     },
     "metadata": {
      "needs_background": "light"
     },
     "output_type": "display_data"
    },
    {
     "data": {
      "image/png": "[encoded data removed]",
      "text/plain": [
       "<Figure size 432x432 with 1 Axes>"
      ]
     },
     "metadata": {
      "needs_background": "light"
     },
     "output_type": "display_data"
    }
   ],
   "source": [
    "print('\\033[1m' + 'Accuracy score: '+'\\033[0m',accuracy_score(y_valid, pca_predict)) # le plus important pour le moment; précisément la première ligne\n",
    "fig = plt.figure()\n",
    "# Matrice de confusion\n",
    "ax= plt.subplot()\n",
    "sns.heatmap(confusion_matrix(y_valid,pca_predict), annot=True, ax = ax ,fmt='g'); #annot=True to annotate cells\n",
    "ax.set_xlabel('Valeurs prédites');ax.set_ylabel('Valeurs réelles'); \n",
    "ax.set_title('Confusion Matrix'); \n",
    "bottom, top = ax.get_ylim()\n",
    "ax.set_ylim(bottom + 0.5, top - 0.5)\n",
    "ax.xaxis.set_ticklabels(['Décédé', 'Vivante']); ax.yaxis.set_ticklabels(['Décédé', 'Vivante']);\n",
    "    \n",
    "print('\\n')\n",
    "# Calculer et visualiser ROC et AUC\n",
    "proba = logReg_model.predict_proba(xValid)\n",
    "fpr0, tpr0, thresholds0 = roc_curve(y_valid, proba[:, 1], pos_label=logReg_model.classes_[1], drop_intermediate=False)\n",
    "#thresholds0.shape\n",
    "fig, ax = plt.subplots(1, 1, figsize=(6,6))\n",
    "ax.plot([0, 1], [0, 1], 'k--')\n",
    "aucf = auc(fpr0, tpr0)\n",
    "ax.plot(fpr0, tpr0, label='auc=%1.5f' % aucf)\n",
    "ax.set_title('Courbe ROC')\n",
    "ax.text(0.5, 0.3, \"plus mauvais que\\nle hasard dans\\ncette zone\")\n",
    "ax.legend();"
   ]
  },
  {
   "cell_type": "markdown",
   "metadata": {},
   "source": [
    "### 6. Model de regression logistique en utilisant la meilleure combinaison entre les features"
   ]
  },
  {
   "cell_type": "code",
   "execution_count": 285,
   "metadata": {},
   "outputs": [],
   "source": [
    "import itertools\n",
    "def bruteforce(df):\n",
    "    features = df.drop(['Survived'], axis=1)\n",
    "    target = df['Survived']\n",
    "    \n",
    "    combs = []\n",
    "    for i in range(2, len(features.columns)):\n",
    "        for comb in itertools.combinations(features, i):\n",
    "            combs.append(comb)\n",
    "    \n",
    "    rows = []\n",
    "    for i in range(len(combs)):\n",
    "        X_train, X_test, y_train, y_test = train_test_split(features[list(combs[i])], target, test_size = 0.2, random_state=5)\n",
    "        clf = LogisticRegression(solver='newton-cg', multi_class='auto', penalty ='l2', random_state = None)\n",
    "        clf.fit(X_train, y_train)\n",
    "        pred = clf.predict(X_test)\n",
    "        M = confusion_matrix(y_test, pred)\n",
    "        rows.append([combs[i], clf.score(X_test, y_test), roc_auc_score(y_test, clf.predict_proba(X_test)[:,1]), M[0,1], M[1,0]])\n",
    "        #print('%s/%s - %s'%(i, len(combs), i/len(combs)*100))\n",
    "    return rows"
   ]
  },
  {
   "cell_type": "code",
   "execution_count": 286,
   "metadata": {},
   "outputs": [
    {
     "name": "stderr",
     "output_type": "stream",
     "text": [
      "C:\\Users\\utilisateur\\Anaconda3\\lib\\site-packages\\scipy\\optimize\\linesearch.py:314: LineSearchWarning: The line search algorithm did not converge\n",
      "  warn('The line search algorithm did not converge', LineSearchWarning)\n",
      "C:\\Users\\utilisateur\\Anaconda3\\lib\\site-packages\\sklearn\\utils\\optimize.py:195: UserWarning: Line Search failed\n",
      "  warnings.warn('Line Search failed')\n",
      "C:\\Users\\utilisateur\\Anaconda3\\lib\\site-packages\\scipy\\optimize\\linesearch.py:314: LineSearchWarning: The line search algorithm did not converge\n",
      "  warn('The line search algorithm did not converge', LineSearchWarning)\n",
      "C:\\Users\\utilisateur\\Anaconda3\\lib\\site-packages\\sklearn\\utils\\optimize.py:195: UserWarning: Line Search failed\n",
      "  warnings.warn('Line Search failed')\n",
      "C:\\Users\\utilisateur\\Anaconda3\\lib\\site-packages\\scipy\\optimize\\linesearch.py:314: LineSearchWarning: The line search algorithm did not converge\n",
      "  warn('The line search algorithm did not converge', LineSearchWarning)\n",
      "C:\\Users\\utilisateur\\Anaconda3\\lib\\site-packages\\sklearn\\utils\\optimize.py:195: UserWarning: Line Search failed\n",
      "  warnings.warn('Line Search failed')\n"
     ]
    }
   ],
   "source": [
    "result = pd.DataFrame(bruteforce(data), columns=['comb', 'score', 'auc', 'fp', 'tn'])"
   ]
  },
  {
   "cell_type": "code",
   "execution_count": 287,
   "metadata": {},
   "outputs": [
    {
     "data": {
      "text/html": [
       "<div>\n",
       "<style scoped>\n",
       "    .dataframe tbody tr th:only-of-type {\n",
       "        vertical-align: middle;\n",
       "    }\n",
       "\n",
       "    .dataframe tbody tr th {\n",
       "        vertical-align: top;\n",
       "    }\n",
       "\n",
       "    .dataframe thead th {\n",
       "        text-align: right;\n",
       "    }\n",
       "</style>\n",
       "<table border=\"1\" class=\"dataframe\">\n",
       "  <thead>\n",
       "    <tr style=\"text-align: right;\">\n",
       "      <th></th>\n",
       "      <th>comb</th>\n",
       "      <th>score</th>\n",
       "      <th>auc</th>\n",
       "      <th>fp</th>\n",
       "      <th>tn</th>\n",
       "    </tr>\n",
       "  </thead>\n",
       "  <tbody>\n",
       "    <tr>\n",
       "      <th>27189</th>\n",
       "      <td>(Pclass, Age, SibSp, Sex_female, Age_categorie...</td>\n",
       "      <td>0.876404</td>\n",
       "      <td>0.892038</td>\n",
       "      <td>9</td>\n",
       "      <td>13</td>\n",
       "    </tr>\n",
       "  </tbody>\n",
       "</table>\n",
       "</div>"
      ],
      "text/plain": [
       "                                                    comb     score       auc  \\\n",
       "27189  (Pclass, Age, SibSp, Sex_female, Age_categorie...  0.876404  0.892038   \n",
       "\n",
       "       fp  tn  \n",
       "27189   9  13  "
      ]
     },
     "execution_count": 287,
     "metadata": {},
     "output_type": "execute_result"
    }
   ],
   "source": [
    "max_score = result[result['score'] == result['score'].max()]\n",
    "max_score[max_score['auc'] == max_score['auc'].max()]"
   ]
  },
  {
   "cell_type": "code",
   "execution_count": 288,
   "metadata": {},
   "outputs": [
    {
     "name": "stdout",
     "output_type": "stream",
     "text": [
      "\u001b[1mAccuracy score: \u001b[0m 0.8370786516853933\n",
      "\n",
      "\n"
     ]
    },
    {
     "data": {
      "image/png": "[encoded data removed]",
      "text/plain": [
       "<Figure size 432x288 with 2 Axes>"
      ]
     },
     "metadata": {
      "needs_background": "light"
     },
     "output_type": "display_data"
    },
    {
     "data": {
      "image/png": "[encoded data removed]",
      "text/plain": [
       "<Figure size 432x432 with 1 Axes>"
      ]
     },
     "metadata": {
      "needs_background": "light"
     },
     "output_type": "display_data"
    }
   ],
   "source": [
    "col=['Pclass', 'Age', 'SibSp', 'Parch', 'Sex_female', 'Age_categories_Infant', 'Age_categories_Senior', 'Embarked_Q']\n",
    "logisticeModel(col)"
   ]
  },
  {
   "cell_type": "markdown",
   "metadata": {},
   "source": [
    "***Après avoir essayé différentes méthodes de sélection d'entités, nous concluons que la meilleure méthode pour l'ensemble de données dans notre main est RFE car elle nous donne la meilleure précision (87).***"
   ]
  }
 ],
 "metadata": {
  "kernelspec": {
   "display_name": "Python 3",
   "language": "python",
   "name": "python3"
  },
  "language_info": {
   "codemirror_mode": {
    "name": "ipython",
    "version": 3
   },
   "file_extension": ".py",
   "mimetype": "text/x-python",
   "name": "python",
   "nbconvert_exporter": "python",
   "pygments_lexer": "ipython3",
   "version": "3.7.4"
  }
 },
 "nbformat": 4,
 "nbformat_minor": 2
}
