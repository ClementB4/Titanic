{
 "cells": [
  {
   "cell_type": "markdown",
   "metadata": {},
   "source": [
    "## REGRESSION LOGISTIQUE\n",
    "#### 1. Sélectionner les variables explicatives en utilisant l’algorithme Recursive feature elimination. \n",
    "ATTENTION : Cette méthode n’a pas encore été abordée en cours. Néanmoins, elle est simple à appliquer avec scikit-learn. Vous pouvez bien évidement choisir une autre méthode de sélection de variables explicatives.\n",
    "#### 2. Elaborer un modèle de régression logistique pour prédire la variable alive en fonction des variables explicatives choisies.\n",
    "#### 3. Conclure"
   ]
  },
  {
   "cell_type": "markdown",
   "metadata": {},
   "source": [
    "---------------------------------------------------------------------------------------------------------------------"
   ]
  },
  {
   "cell_type": "markdown",
   "metadata": {},
   "source": [
    "### Importer les librairies\n"
   ]
  },
  {
   "cell_type": "code",
   "execution_count": 234,
   "metadata": {},
   "outputs": [],
   "source": [
    "import numpy as np\n",
    "import pandas as pd\n",
    "from sklearn.linear_model import LogisticRegression\n",
    "from sklearn.metrics import classification_report\n",
    "from sklearn.metrics import accuracy_score\n",
    "from sklearn.metrics import confusion_matrix\n",
    "from sklearn.model_selection import train_test_split, cross_val_score\n",
    "from sklearn.feature_selection import RFE\n",
    "from sklearn.feature_selection import RFECV\n",
    "from sklearn.metrics import roc_auc_score, roc_curve, auc\n",
    "from sklearn.feature_selection import SelectKBest\n",
    "from sklearn.feature_selection import chi2\n",
    "from sklearn.feature_selection import f_classif\n",
    "from sklearn.feature_selection import mutual_info_classif\n",
    "from numpy import set_printoptions\n",
    "\n",
    "#Visualization Libraries\n",
    "import seaborn as sns\n",
    "import matplotlib.pyplot as plt\n",
    "%matplotlib inline"
   ]
  },
  {
   "cell_type": "markdown",
   "metadata": {},
   "source": [
    "### Importer la dataset et l'explorer"
   ]
  },
  {
   "cell_type": "code",
   "execution_count": 135,
   "metadata": {},
   "outputs": [
    {
     "data": {
      "text/html": [
       "<div>\n",
       "<style scoped>\n",
       "    .dataframe tbody tr th:only-of-type {\n",
       "        vertical-align: middle;\n",
       "    }\n",
       "\n",
       "    .dataframe tbody tr th {\n",
       "        vertical-align: top;\n",
       "    }\n",
       "\n",
       "    .dataframe thead th {\n",
       "        text-align: right;\n",
       "    }\n",
       "</style>\n",
       "<table border=\"1\" class=\"dataframe\">\n",
       "  <thead>\n",
       "    <tr style=\"text-align: right;\">\n",
       "      <th></th>\n",
       "      <th>PassengerId</th>\n",
       "      <th>Survived</th>\n",
       "      <th>Pclass</th>\n",
       "      <th>Name</th>\n",
       "      <th>Sex</th>\n",
       "      <th>Age</th>\n",
       "      <th>SibSp</th>\n",
       "      <th>Parch</th>\n",
       "      <th>Ticket</th>\n",
       "      <th>Fare</th>\n",
       "      <th>Embarked</th>\n",
       "      <th>Age_categories</th>\n",
       "    </tr>\n",
       "  </thead>\n",
       "  <tbody>\n",
       "    <tr>\n",
       "      <th>0</th>\n",
       "      <td>1</td>\n",
       "      <td>0</td>\n",
       "      <td>3</td>\n",
       "      <td>Braund, Mr. Owen Harris</td>\n",
       "      <td>male</td>\n",
       "      <td>22.0</td>\n",
       "      <td>1</td>\n",
       "      <td>0</td>\n",
       "      <td>A/5 21171</td>\n",
       "      <td>7.2500</td>\n",
       "      <td>S</td>\n",
       "      <td>Young Adult</td>\n",
       "    </tr>\n",
       "    <tr>\n",
       "      <th>1</th>\n",
       "      <td>2</td>\n",
       "      <td>1</td>\n",
       "      <td>1</td>\n",
       "      <td>Cumings, Mrs. John Bradley (Florence Briggs Th...</td>\n",
       "      <td>female</td>\n",
       "      <td>38.0</td>\n",
       "      <td>1</td>\n",
       "      <td>0</td>\n",
       "      <td>PC 17599</td>\n",
       "      <td>71.2833</td>\n",
       "      <td>C</td>\n",
       "      <td>Adult</td>\n",
       "    </tr>\n",
       "    <tr>\n",
       "      <th>2</th>\n",
       "      <td>3</td>\n",
       "      <td>1</td>\n",
       "      <td>3</td>\n",
       "      <td>Heikkinen, Miss. Laina</td>\n",
       "      <td>female</td>\n",
       "      <td>26.0</td>\n",
       "      <td>0</td>\n",
       "      <td>0</td>\n",
       "      <td>STON/O2. 3101282</td>\n",
       "      <td>7.9250</td>\n",
       "      <td>S</td>\n",
       "      <td>Young Adult</td>\n",
       "    </tr>\n",
       "    <tr>\n",
       "      <th>3</th>\n",
       "      <td>4</td>\n",
       "      <td>1</td>\n",
       "      <td>1</td>\n",
       "      <td>Futrelle, Mrs. Jacques Heath (Lily May Peel)</td>\n",
       "      <td>female</td>\n",
       "      <td>35.0</td>\n",
       "      <td>1</td>\n",
       "      <td>0</td>\n",
       "      <td>113803</td>\n",
       "      <td>53.1000</td>\n",
       "      <td>S</td>\n",
       "      <td>Young Adult</td>\n",
       "    </tr>\n",
       "    <tr>\n",
       "      <th>4</th>\n",
       "      <td>5</td>\n",
       "      <td>0</td>\n",
       "      <td>3</td>\n",
       "      <td>Allen, Mr. William Henry</td>\n",
       "      <td>male</td>\n",
       "      <td>35.0</td>\n",
       "      <td>0</td>\n",
       "      <td>0</td>\n",
       "      <td>373450</td>\n",
       "      <td>8.0500</td>\n",
       "      <td>S</td>\n",
       "      <td>Young Adult</td>\n",
       "    </tr>\n",
       "  </tbody>\n",
       "</table>\n",
       "</div>"
      ],
      "text/plain": [
       "   PassengerId  Survived  Pclass  \\\n",
       "0            1         0       3   \n",
       "1            2         1       1   \n",
       "2            3         1       3   \n",
       "3            4         1       1   \n",
       "4            5         0       3   \n",
       "\n",
       "                                                Name     Sex   Age  SibSp  \\\n",
       "0                            Braund, Mr. Owen Harris    male  22.0      1   \n",
       "1  Cumings, Mrs. John Bradley (Florence Briggs Th...  female  38.0      1   \n",
       "2                             Heikkinen, Miss. Laina  female  26.0      0   \n",
       "3       Futrelle, Mrs. Jacques Heath (Lily May Peel)  female  35.0      1   \n",
       "4                           Allen, Mr. William Henry    male  35.0      0   \n",
       "\n",
       "   Parch            Ticket     Fare Embarked Age_categories  \n",
       "0      0         A/5 21171   7.2500        S    Young Adult  \n",
       "1      0          PC 17599  71.2833        C          Adult  \n",
       "2      0  STON/O2. 3101282   7.9250        S    Young Adult  \n",
       "3      0            113803  53.1000        S    Young Adult  \n",
       "4      0            373450   8.0500        S    Young Adult  "
      ]
     },
     "execution_count": 135,
     "metadata": {},
     "output_type": "execute_result"
    }
   ],
   "source": [
    "data = pd.read_csv('trainClean.csv', sep=',', encoding='utf-8')\n",
    "data.head()"
   ]
  },
  {
   "cell_type": "markdown",
   "metadata": {},
   "source": [
    "#### Simuler (Dummy) les catégorielles features de la dataset"
   ]
  },
  {
   "cell_type": "markdown",
   "metadata": {},
   "source": [
    "   ##### Compter le nombre de  catégorielles features que nous avons dans l'ensemble de données"
   ]
  },
  {
   "cell_type": "code",
   "execution_count": 136,
   "metadata": {},
   "outputs": [
    {
     "data": {
      "text/plain": [
       "['Age_categories', 'Name', 'Sex', 'Embarked', 'Ticket']"
      ]
     },
     "execution_count": 136,
     "metadata": {},
     "output_type": "execute_result"
    }
   ],
   "source": [
    "categorical_feature_columns = list(set(data.columns) - set(data._get_numeric_data().columns))\n",
    "categorical_feature_columns"
   ]
  },
  {
   "cell_type": "markdown",
   "metadata": {},
   "source": [
    "**Nous allons supprimer les deux colonnes: Nom et Ticket (car elles ne contiennent pas d'informations utiles pour nous) et facturer et aprés supprimer le reste des colonnes **"
   ]
  },
  {
   "cell_type": "code",
   "execution_count": 137,
   "metadata": {},
   "outputs": [],
   "source": [
    "def create_dummies(df,column_name):\n",
    "    dummies = pd.get_dummies(df[column_name],prefix=column_name)\n",
    "    df = pd.concat([df,dummies],axis=1)\n",
    "    return df"
   ]
  },
  {
   "cell_type": "code",
   "execution_count": 138,
   "metadata": {},
   "outputs": [],
   "source": [
    "data = create_dummies(data,\"Sex\")"
   ]
  },
  {
   "cell_type": "code",
   "execution_count": 139,
   "metadata": {},
   "outputs": [],
   "source": [
    "data = create_dummies(data,\"Age_categories\")"
   ]
  },
  {
   "cell_type": "code",
   "execution_count": 140,
   "metadata": {},
   "outputs": [],
   "source": [
    "data = create_dummies(data,\"Embarked\")"
   ]
  },
  {
   "cell_type": "code",
   "execution_count": 141,
   "metadata": {},
   "outputs": [],
   "source": [
    "data=data.drop(['Name','Ticket','Sex','Sex_male','Age_categories','Embarked','PassengerId'], axis=1)"
   ]
  },
  {
   "cell_type": "code",
   "execution_count": 145,
   "metadata": {},
   "outputs": [
    {
     "name": "stdout",
     "output_type": "stream",
     "text": [
      "<class 'pandas.core.frame.DataFrame'>\n",
      "RangeIndex: 889 entries, 0 to 888\n",
      "Data columns (total 17 columns):\n",
      "Survived                      889 non-null int64\n",
      "Pclass                        889 non-null int64\n",
      "Age                           889 non-null float64\n",
      "SibSp                         889 non-null int64\n",
      "Parch                         889 non-null int64\n",
      "Fare                          889 non-null float64\n",
      "Sex_female                    889 non-null uint8\n",
      "Age_categories_Adult          889 non-null uint8\n",
      "Age_categories_Child          889 non-null uint8\n",
      "Age_categories_Infant         889 non-null uint8\n",
      "Age_categories_Missing        889 non-null uint8\n",
      "Age_categories_Senior         889 non-null uint8\n",
      "Age_categories_Teenager       889 non-null uint8\n",
      "Age_categories_Young Adult    889 non-null uint8\n",
      "Embarked_C                    889 non-null uint8\n",
      "Embarked_Q                    889 non-null uint8\n",
      "Embarked_S                    889 non-null uint8\n",
      "dtypes: float64(2), int64(4), uint8(11)\n",
      "memory usage: 51.3 KB\n"
     ]
    }
   ],
   "source": [
    "data.info()"
   ]
  },
  {
   "cell_type": "markdown",
   "metadata": {},
   "source": [
    "### Création d'un train set et validation set"
   ]
  },
  {
   "cell_type": "code",
   "execution_count": 151,
   "metadata": {},
   "outputs": [],
   "source": [
    "X = data.drop(['Survived'], axis=1)\n",
    "y = data['Survived']\n",
    "X_train, X_valid, y_train, y_valid = train_test_split(X, y, test_size=0.2, random_state=5)\n",
    "#X.columns"
   ]
  },
  {
   "cell_type": "code",
   "execution_count": 152,
   "metadata": {},
   "outputs": [
    {
     "name": "stdout",
     "output_type": "stream",
     "text": [
      "(711, 16) \n",
      "\n",
      "(178, 16) \n",
      "\n",
      "(711,) \n",
      "\n",
      "(178,) \n",
      "\n"
     ]
    }
   ],
   "source": [
    "print(X_train.shape,'\\n')\n",
    "print(X_valid.shape,'\\n')\n",
    "print(y_train.shape,'\\n')\n",
    "print(y_valid.shape,'\\n')"
   ]
  },
  {
   "cell_type": "markdown",
   "metadata": {},
   "source": [
    "###### Compter le nombre de passagers survivants et non survivants dans l'ensemble de données de validation"
   ]
  },
  {
   "cell_type": "code",
   "execution_count": 183,
   "metadata": {},
   "outputs": [
    {
     "data": {
      "text/plain": [
       "Survived    119\n",
       "dtype: int64"
      ]
     },
     "execution_count": 183,
     "metadata": {},
     "output_type": "execute_result"
    }
   ],
   "source": [
    "Alive=pd.DataFrame(y_valid, columns = ['Survived'])\n",
    "Alive[Alive['Survived']==0].count()"
   ]
  },
  {
   "cell_type": "code",
   "execution_count": 184,
   "metadata": {},
   "outputs": [
    {
     "data": {
      "text/plain": [
       "Survived    59\n",
       "dtype: int64"
      ]
     },
     "execution_count": 184,
     "metadata": {},
     "output_type": "execute_result"
    }
   ],
   "source": [
    "Alive[Alive['Survived']==1].count()"
   ]
  },
  {
   "cell_type": "markdown",
   "metadata": {},
   "source": [
    "### 1. Model de regression logistique en utilisant tout les features "
   ]
  },
  {
   "cell_type": "code",
   "execution_count": 153,
   "metadata": {},
   "outputs": [],
   "source": [
    "regLogistic=LogisticRegression(solver='newton-cg', multi_class='auto', penalty ='l2', random_state = None)"
   ]
  },
  {
   "cell_type": "markdown",
   "metadata": {},
   "source": [
    "###### Fonction pour former, valider et évaluer le modèle de régression logistique"
   ]
  },
  {
   "cell_type": "code",
   "execution_count": 271,
   "metadata": {},
   "outputs": [],
   "source": [
    "def logisticeModel(columNames):\n",
    "    logReg_model = regLogistic.fit(X_train[columNames], y_train)\n",
    "    #Test the model\n",
    "    y_pred = logReg_model.predict(X_valid[columNames])\n",
    "    \n",
    "    print(classification_report(y_valid, y_pred))\n",
    "\n",
    "    print(accuracy_score(y_valid, y_pred),'\\n') # le plus important pour le moment; précisément la première ligne\n",
    "\n",
    "    # Matrice de confusion\n",
    "    #affichage plus \"joli\" de la matrice de confusion\n",
    "    cm = pd.DataFrame(confusion_matrix(y_valid,y_pred), columns=['prédit ' + str(_) for _ in logReg_model.classes_])\n",
    "    cm.index = ['vrai ' + str(_) for _ in logReg_model.classes_]\n",
    "    print(cm)\n",
    "    \n",
    "    # Calculer et visualiser ROC et AUC\n",
    "    proba = logReg_model.predict_proba(X_valid[columNames])\n",
    "    fpr0, tpr0, thresholds0 = roc_curve(y_valid, proba[:, 1], pos_label=logReg_model.classes_[1], drop_intermediate=False)\n",
    "    #thresholds0.shape\n",
    "    fig, ax = plt.subplots(1, 1, figsize=(6,6))\n",
    "    ax.plot([0, 1], [0, 1], 'k--')\n",
    "    aucf = auc(fpr0, tpr0)\n",
    "    ax.plot(fpr0, tpr0, label='auc=%1.5f' % aucf)\n",
    "    ax.set_title('Courbe ROC')\n",
    "    ax.text(0.5, 0.3, \"plus mauvais que\\nle hasard dans\\ncette zone\")\n",
    "    ax.legend();"
   ]
  },
  {
   "cell_type": "markdown",
   "metadata": {},
   "source": [
    "###### Les résultats du premier modèle en prenant toutes les features de l'ensemble de données"
   ]
  },
  {
   "cell_type": "code",
   "execution_count": 272,
   "metadata": {},
   "outputs": [
    {
     "name": "stdout",
     "output_type": "stream",
     "text": [
      "              precision    recall  f1-score   support\n",
      "\n",
      "           0       0.88      0.91      0.89       119\n",
      "           1       0.80      0.75      0.77        59\n",
      "\n",
      "    accuracy                           0.85       178\n",
      "   macro avg       0.84      0.83      0.83       178\n",
      "weighted avg       0.85      0.85      0.85       178\n",
      "\n",
      "0.8539325842696629 \n",
      "\n",
      "        prédit 0  prédit 1\n",
      "vrai 0       108        11\n",
      "vrai 1        15        44\n"
     ]
    },
    {
     "data": {
      "image/png": "[encoded data removed]",
      "text/plain": [
       "<Figure size 432x432 with 1 Axes>"
      ]
     },
     "metadata": {
      "needs_background": "light"
     },
     "output_type": "display_data"
    }
   ],
   "source": [
    "logisticeModel(X_train.columns.tolist())"
   ]
  },
  {
   "cell_type": "markdown",
   "metadata": {},
   "source": [
    "<p> Même si nous avons obtenu une bonne valeur pour la précision avec toutes les fonctionnalités, nous avons essayé de choisir les fonctionnalités les plus explicatives pour minimiser le temps total de training, pour cela nous avons essayé plusieurs algorithmes pour la sélection des features, qui sont: Recursive feature elimination (RFE), Recursive feature elimination avec cross-validation (RFECV), Univariate Feature Selection (SelectKBest), PCA, features meilleure combinaison </p>"
   ]
  },
  {
   "cell_type": "markdown",
   "metadata": {},
   "source": [
    "### 2.Model de regression logistique par sélectionner les variables explicatives en utilisant l’algorithme Recursive feature elimination (RFE). "
   ]
  },
  {
   "cell_type": "markdown",
   "metadata": {},
   "source": [
    "<p> Étant donné un estimateur externe qui attribue des poids aux caractéristiques (par exemple, les coefficients d'un modèle linéaire), l'élimination récursive des caractéristiques (RFE) consiste à sélectionner les caractéristiques en considérant récursivement des ensembles de plus en plus petits de caractéristiques. Premièrement, l'estimateur est formé sur l'ensemble initial de caractéristiques et des poids sont attribués à chacun d'eux. Ensuite, les entités dont les poids absolus sont les plus petits sont élaguées à partir des entités définies actuellement. Cette procédure est répétée récursivement sur l'ensemble élagué jusqu'à ce que le nombre souhaité de caractéristiques à sélectionner soit finalement atteint. </p>"
   ]
  },
  {
   "cell_type": "code",
   "execution_count": 307,
   "metadata": {},
   "outputs": [
    {
     "name": "stdout",
     "output_type": "stream",
     "text": [
      "Features triées par leurs rangs \n",
      "[(1, 'Sex_female'), (2, 'Age_categories_Infant'), (3, 'Pclass'), (4, 'Age_categories_Senior'), (5, 'Age_categories_Adult'), (6, 'Embarked_S'), (7, 'Age_categories_Child'), (8, 'SibSp'), (9, 'Age_categories_Missing'), (10, 'Age_categories_Teenager'), (11, 'Parch'), (12, 'Embarked_C'), (13, 'Embarked_Q'), (14, 'Age_categories_Young Adult'), (15, 'Age'), (16, 'Fare')]\n"
     ]
    }
   ],
   "source": [
    "from sklearn.feature_selection import RFE\n",
    "# utilise regression logistique comme estimator\n",
    "# classer toutes les features, c.a.d poursuivre l'élimination jusqu'à la dernière\n",
    "rfe=RFE(regLogistic,n_features_to_select=1)\n",
    "names=X_train.columns.tolist()\n",
    "rfe.fit(X_train,y_train)\n",
    "print(\"Features triées par leurs rangs \")\n",
    "print(sorted(zip(map(lambda x: round(x,4),rfe.ranking_),names)))"
   ]
  },
  {
   "cell_type": "code",
   "execution_count": 308,
   "metadata": {},
   "outputs": [
    {
     "name": "stdout",
     "output_type": "stream",
     "text": [
      "              precision    recall  f1-score   support\n",
      "\n",
      "           0       0.89      0.91      0.90       119\n",
      "           1       0.81      0.78      0.79        59\n",
      "\n",
      "    accuracy                           0.87       178\n",
      "   macro avg       0.85      0.84      0.85       178\n",
      "weighted avg       0.86      0.87      0.86       178\n",
      "\n",
      "0.8651685393258427 \n",
      "\n",
      "        prédit 0  prédit 1\n",
      "vrai 0       108        11\n",
      "vrai 1        13        46\n"
     ]
    },
    {
     "data": {
      "image/png": "[encoded data removed]",
      "text/plain": [
       "<Figure size 432x432 with 1 Axes>"
      ]
     },
     "metadata": {
      "needs_background": "light"
     },
     "output_type": "display_data"
    }
   ],
   "source": [
    "#colNmae=['Sex_female','Age_categories_Infant','Pclass',]\n",
    "colNmae=['Sex_female', 'Age_categories_Infant', 'Pclass', 'Age_categories_Senior', 'Age_categories_Adult', 'Embarked_S', 'Age_categories_Child', 'SibSp', 'Age_categories_Missing', 'Age_categories_Teenager', 'Parch','Age']\n",
    "logisticeModel(colNmae)"
   ]
  },
  {
   "cell_type": "markdown",
   "metadata": {},
   "source": [
    "### 3. Model regression logistique par sélectionner les variables explicatives en utilisant l’algorithme Recursive feature elimination avec cross-validation (RFECV). "
   ]
  },
  {
   "cell_type": "code",
   "execution_count": 341,
   "metadata": {},
   "outputs": [
    {
     "name": "stdout",
     "output_type": "stream",
     "text": [
      "Optimal number of features : 14\n",
      "Best features : Index(['Pclass', 'SibSp', 'Parch', 'Sex_female', 'Age_categories_Adult',\n",
      "       'Age_categories_Child', 'Age_categories_Infant',\n",
      "       'Age_categories_Missing', 'Age_categories_Senior',\n",
      "       'Age_categories_Teenager', 'Age_categories_Young Adult', 'Embarked_C',\n",
      "       'Embarked_Q', 'Embarked_S'],\n",
      "      dtype='object')\n"
     ]
    }
   ],
   "source": [
    "rfecv = RFECV(estimator=regLogistic, step=1, cv=5, scoring='accuracy')\n",
    "rfecv = rfecv.fit(X_train, y_train)\n",
    "print('Optimal number of features :', rfecv.n_features_)\n",
    "print('Best features :', X_train.columns[rfecv.support_])"
   ]
  },
  {
   "cell_type": "code",
   "execution_count": 342,
   "metadata": {},
   "outputs": [
    {
     "data": {
      "text/plain": [
       "0.8539325842696629"
      ]
     },
     "execution_count": 342,
     "metadata": {},
     "output_type": "execute_result"
    }
   ],
   "source": [
    "rfecv.score(X_valid, y_valid)"
   ]
  },
  {
   "cell_type": "code",
   "execution_count": 343,
   "metadata": {},
   "outputs": [
    {
     "data": {
      "image/png": "[encoded data removed]",
      "text/plain": [
       "<Figure size 432x288 with 1 Axes>"
      ]
     },
     "metadata": {
      "needs_background": "light"
     },
     "output_type": "display_data"
    }
   ],
   "source": [
    "plt.figure()\n",
    "plt.xlabel(\"Number of features selected\")\n",
    "plt.ylabel(\"Cross validation score of number of selected features\")\n",
    "plt.plot(range(1, len(rfecv.grid_scores_) + 1), rfecv.grid_scores_)\n",
    "plt.show()"
   ]
  },
  {
   "cell_type": "code",
   "execution_count": 344,
   "metadata": {},
   "outputs": [
    {
     "data": {
      "text/plain": [
       "['Pclass',\n",
       " 'SibSp',\n",
       " 'Parch',\n",
       " 'Sex_female',\n",
       " 'Age_categories_Adult',\n",
       " 'Age_categories_Child',\n",
       " 'Age_categories_Infant',\n",
       " 'Age_categories_Missing',\n",
       " 'Age_categories_Senior',\n",
       " 'Age_categories_Teenager',\n",
       " 'Age_categories_Young Adult',\n",
       " 'Embarked_C',\n",
       " 'Embarked_Q',\n",
       " 'Embarked_S']"
      ]
     },
     "execution_count": 344,
     "metadata": {},
     "output_type": "execute_result"
    }
   ],
   "source": [
    "# Get columns to keep and create new dataframe with those only\n",
    "cols = rfecv.get_support(indices=True)\n",
    "#features_df_new = X_train.iloc[:,cols].names\n",
    "#features_df_new\n",
    "selectedColumns=X_train.columns[cols].tolist()\n",
    "selectedColumns"
   ]
  },
  {
   "cell_type": "code",
   "execution_count": 345,
   "metadata": {},
   "outputs": [
    {
     "name": "stdout",
     "output_type": "stream",
     "text": [
      "              precision    recall  f1-score   support\n",
      "\n",
      "           0       0.89      0.89      0.89       119\n",
      "           1       0.78      0.78      0.78        59\n",
      "\n",
      "    accuracy                           0.85       178\n",
      "   macro avg       0.84      0.84      0.84       178\n",
      "weighted avg       0.85      0.85      0.85       178\n",
      "\n",
      "0.8539325842696629 \n",
      "\n",
      "        prédit 0  prédit 1\n",
      "vrai 0       106        13\n",
      "vrai 1        13        46\n"
     ]
    },
    {
     "data": {
      "image/png": "[encoded data removed]",
      "text/plain": [
       "<Figure size 432x432 with 1 Axes>"
      ]
     },
     "metadata": {
      "needs_background": "light"
     },
     "output_type": "display_data"
    }
   ],
   "source": [
    "logisticeModel(selectedColumns)"
   ]
  },
  {
   "cell_type": "markdown",
   "metadata": {},
   "source": [
    "x_train_rfecv = rfecv.transform(X_train)\n",
    "x_valid_rfecv = rfecv.transform(X_valid)"
   ]
  },
  {
   "cell_type": "markdown",
   "metadata": {},
   "source": [
    "logReg_rfecv_model = regLogistic.fit(x_train_rfecv, y_train)"
   ]
  },
  {
   "cell_type": "markdown",
   "metadata": {},
   "source": [
    "#Test the model\n",
    "y_pred = logReg_rfecv_model.predict(x_valid_rfecv)"
   ]
  },
  {
   "cell_type": "markdown",
   "metadata": {},
   "source": [
    "print(classification_report(y_valid, y_pred))\n",
    "\n",
    "print('accuracy: ',accuracy_score(y_valid, y_pred),'\\n') # le plus important pour le moment; précisément la première ligne\n",
    "\n",
    "print(confusion_matrix(y_valid, y_pred))"
   ]
  },
  {
   "cell_type": "markdown",
   "metadata": {},
   "source": [
    "### 4. Model de regression logistique en utilisant SelectKBest"
   ]
  },
  {
   "cell_type": "markdown",
   "metadata": {},
   "source": [
    "<p> La sélection des fonctionnalités univariées (Univariate feature selection) fonctionne en sélectionnant les meilleures features sur la base de tests statistiques univariés. Il peut être considéré comme une étape de prétraitement d'un estimateur.\n",
    "    \n",
    "  SelectKBest est une méthode de sélection des fonctionnalités prise en charge par Scikit-learn, qui supprime toutes les fonctionnalités ayant le score le plus élevé, sauf les k.\n",
    "  \n",
    "  SelectKBest prend en entrée une fonction de notation et renvoie des scores univariés pour chaque feature.\n",
    "  \n",
    "    Les fonction de notation pour la régression: f_regression, mutual_info_regression\n",
    "    et pour la classification: chi2, f_classif, mutual_info_classif \n",
    "    \n",
    "</p>"
   ]
  },
  {
   "cell_type": "code",
   "execution_count": 326,
   "metadata": {},
   "outputs": [
    {
     "data": {
      "text/plain": [
       "SelectKBest(k=5,\n",
       "            score_func=<function mutual_info_classif at 0x0000025CB59A2678>)"
      ]
     },
     "execution_count": 326,
     "metadata": {},
     "output_type": "execute_result"
    }
   ],
   "source": [
    "# Create and fit selector\n",
    "#selector = SelectKBest(f_classif, k=4)\n",
    "selector = SelectKBest(mutual_info_classif, k=5)\n",
    "#selector = SelectKBest(chi2, k=4)\n",
    "selector.fit(X_train,y_train)"
   ]
  },
  {
   "cell_type": "code",
   "execution_count": 327,
   "metadata": {},
   "outputs": [
    {
     "name": "stdout",
     "output_type": "stream",
     "text": [
      "Feature 0: 0.040301\n",
      "Feature 1: 0.030888\n",
      "Feature 2: 0.012395\n",
      "Feature 3: 0.024801\n",
      "Feature 4: 0.140522\n",
      "Feature 5: 0.137202\n",
      "Feature 6: 0.000000\n",
      "Feature 7: 0.030836\n",
      "Feature 8: 0.001635\n",
      "Feature 9: 0.000000\n",
      "Feature 10: 0.000000\n",
      "Feature 11: 0.018351\n",
      "Feature 12: 0.000000\n",
      "Feature 13: 0.009282\n",
      "Feature 14: 0.000000\n",
      "Feature 15: 0.001814\n"
     ]
    }
   ],
   "source": [
    "# what are scores for the features\n",
    "for i in range(len(selector.scores_)):\n",
    "\tprint('Feature %d: %f' % (i, selector.scores_[i]))"
   ]
  },
  {
   "cell_type": "code",
   "execution_count": 328,
   "metadata": {},
   "outputs": [
    {
     "data": {
      "image/png": "[encoded data removed]",
      "text/plain": [
       "<Figure size 432x288 with 1 Axes>"
      ]
     },
     "metadata": {
      "needs_background": "light"
     },
     "output_type": "display_data"
    }
   ],
   "source": [
    "# plot the scores\n",
    "from matplotlib import pyplot\n",
    "pyplot.bar([i for i in range(len(selector.scores_))], selector.scores_)\n",
    "pyplot.show()"
   ]
  },
  {
   "cell_type": "code",
   "execution_count": 329,
   "metadata": {},
   "outputs": [
    {
     "data": {
      "text/plain": [
       "['Pclass', 'Age', 'Fare', 'Sex_female', 'Age_categories_Child']"
      ]
     },
     "execution_count": 329,
     "metadata": {},
     "output_type": "execute_result"
    }
   ],
   "source": [
    "# Get columns to keep and create new dataframe with those only\n",
    "cols = selector.get_support(indices=True)\n",
    "#features_df_new = X_train.iloc[:,cols].names\n",
    "#features_df_new\n",
    "selectedColumns=X_train.columns[cols].tolist()\n",
    "selectedColumns"
   ]
  },
  {
   "cell_type": "code",
   "execution_count": 330,
   "metadata": {},
   "outputs": [
    {
     "name": "stdout",
     "output_type": "stream",
     "text": [
      "              precision    recall  f1-score   support\n",
      "\n",
      "           0       0.89      0.86      0.88       119\n",
      "           1       0.73      0.80      0.76        59\n",
      "\n",
      "    accuracy                           0.84       178\n",
      "   macro avg       0.81      0.83      0.82       178\n",
      "weighted avg       0.84      0.84      0.84       178\n",
      "\n",
      "0.8370786516853933 \n",
      "\n",
      "        prédit 0  prédit 1\n",
      "vrai 0       102        17\n",
      "vrai 1        12        47\n"
     ]
    },
    {
     "data": {
      "image/png": "[encoded data removed]",
      "text/plain": [
       "<Figure size 432x432 with 1 Axes>"
      ]
     },
     "metadata": {
      "needs_background": "light"
     },
     "output_type": "display_data"
    }
   ],
   "source": [
    "logisticeModel(selectedColumns)"
   ]
  },
  {
   "cell_type": "markdown",
   "metadata": {},
   "source": [
    "### 5. Model de regression logistique en utilisant PCA"
   ]
  },
  {
   "cell_type": "code",
   "execution_count": 301,
   "metadata": {},
   "outputs": [
    {
     "data": {
      "text/html": [
       "<div>\n",
       "<style scoped>\n",
       "    .dataframe tbody tr th:only-of-type {\n",
       "        vertical-align: middle;\n",
       "    }\n",
       "\n",
       "    .dataframe tbody tr th {\n",
       "        vertical-align: top;\n",
       "    }\n",
       "\n",
       "    .dataframe thead th {\n",
       "        text-align: right;\n",
       "    }\n",
       "</style>\n",
       "<table border=\"1\" class=\"dataframe\">\n",
       "  <thead>\n",
       "    <tr style=\"text-align: right;\">\n",
       "      <th></th>\n",
       "      <th>0</th>\n",
       "      <th>1</th>\n",
       "    </tr>\n",
       "  </thead>\n",
       "  <tbody>\n",
       "    <tr>\n",
       "      <th>0</th>\n",
       "      <td>PC1</td>\n",
       "      <td>Fare</td>\n",
       "    </tr>\n",
       "    <tr>\n",
       "      <th>1</th>\n",
       "      <td>PC2</td>\n",
       "      <td>Age</td>\n",
       "    </tr>\n",
       "  </tbody>\n",
       "</table>\n",
       "</div>"
      ],
      "text/plain": [
       "     0     1\n",
       "0  PC1  Fare\n",
       "1  PC2   Age"
      ]
     },
     "execution_count": 301,
     "metadata": {},
     "output_type": "execute_result"
    }
   ],
   "source": [
    "# normalize data\n",
    "from sklearn import preprocessing\n",
    "\n",
    "data_scaled = pd.DataFrame(preprocessing.scale(X_train),columns = X_train.columns) \n",
    "model = PCA(n_components=2).fit(X_train)\n",
    "X_pc = model.transform(X_train)\n",
    "\n",
    "# number of components\n",
    "n_pcs= model.components_.shape[0]\n",
    "\n",
    "# get the index of the most important feature on EACH component i.e. largest absolute value\n",
    "# using LIST COMPREHENSION HERE\n",
    "most_important = [np.abs(model.components_[i]).argmax() for i in range(n_pcs)]\n",
    "\n",
    "initial_feature_names =X_train.columns.tolist()\n",
    "\n",
    "# get the names\n",
    "most_important_names = [initial_feature_names[most_important[i]] for i in range(n_pcs)]\n",
    "\n",
    "# using LIST COMPREHENSION HERE AGAIN\n",
    "dic = {'PC{}'.format(i+1): most_important_names[i] for i in range(n_pcs)}\n",
    "\n",
    "# build the dataframe\n",
    "df = pd.DataFrame(sorted(dic.items()))\n",
    "df"
   ]
  },
  {
   "cell_type": "code",
   "execution_count": 338,
   "metadata": {
    "scrolled": true
   },
   "outputs": [
    {
     "name": "stdout",
     "output_type": "stream",
     "text": [
      "              precision    recall  f1-score   support\n",
      "\n",
      "           0       0.67      0.86      0.75       119\n",
      "           1       0.35      0.15      0.21        59\n",
      "\n",
      "    accuracy                           0.62       178\n",
      "   macro avg       0.51      0.50      0.48       178\n",
      "weighted avg       0.56      0.62      0.57       178\n",
      "\n",
      "0.6235955056179775 \n",
      "\n",
      "        prédit 0  prédit 1\n",
      "vrai 0       102        17\n",
      "vrai 1        50         9\n"
     ]
    },
    {
     "data": {
      "image/png": "[encoded data removed]",
      "text/plain": [
       "<Figure size 432x432 with 1 Axes>"
      ]
     },
     "metadata": {
      "needs_background": "light"
     },
     "output_type": "display_data"
    }
   ],
   "source": [
    "c=df[1].tolist()\n",
    "logisticeModel(c)"
   ]
  },
  {
   "cell_type": "markdown",
   "metadata": {},
   "source": [
    "### 6. Model de regression logistique en utilisant la meilleure combinaison entre les features"
   ]
  },
  {
   "cell_type": "code",
   "execution_count": 346,
   "metadata": {},
   "outputs": [],
   "source": [
    "import itertools\n",
    "def bruteforce(df):\n",
    "    features = df.drop(['Survived'], axis=1)\n",
    "    target = df['Survived']\n",
    "    \n",
    "    combs = []\n",
    "    for i in range(2, len(features.columns)):\n",
    "        for comb in itertools.combinations(features, i):\n",
    "            combs.append(comb)\n",
    "    \n",
    "    rows = []\n",
    "    for i in range(len(combs)):\n",
    "        X_train, X_test, y_train, y_test = train_test_split(features[list(combs[i])], target, test_size = 0.2, random_state=5)\n",
    "        clf = LogisticRegression(solver='newton-cg', multi_class='auto', penalty ='l2', random_state = None)\n",
    "        clf.fit(X_train, y_train)\n",
    "        pred = clf.predict(X_test)\n",
    "        M = confusion_matrix(y_test, pred)\n",
    "        rows.append([combs[i], clf.score(X_test, y_test), roc_auc_score(y_test, clf.predict_proba(X_test)[:,1]), M[0,1], M[1,0]])\n",
    "        #print('%s/%s - %s'%(i, len(combs), i/len(combs)*100))\n",
    "    return rows"
   ]
  },
  {
   "cell_type": "code",
   "execution_count": 347,
   "metadata": {},
   "outputs": [
    {
     "name": "stderr",
     "output_type": "stream",
     "text": [
      "C:\\Users\\utilisateur\\Anaconda3\\lib\\site-packages\\scipy\\optimize\\linesearch.py:314: LineSearchWarning: The line search algorithm did not converge\n",
      "  warn('The line search algorithm did not converge', LineSearchWarning)\n",
      "C:\\Users\\utilisateur\\Anaconda3\\lib\\site-packages\\sklearn\\utils\\optimize.py:195: UserWarning: Line Search failed\n",
      "  warnings.warn('Line Search failed')\n",
      "C:\\Users\\utilisateur\\Anaconda3\\lib\\site-packages\\scipy\\optimize\\linesearch.py:314: LineSearchWarning: The line search algorithm did not converge\n",
      "  warn('The line search algorithm did not converge', LineSearchWarning)\n",
      "C:\\Users\\utilisateur\\Anaconda3\\lib\\site-packages\\sklearn\\utils\\optimize.py:195: UserWarning: Line Search failed\n",
      "  warnings.warn('Line Search failed')\n",
      "C:\\Users\\utilisateur\\Anaconda3\\lib\\site-packages\\scipy\\optimize\\linesearch.py:314: LineSearchWarning: The line search algorithm did not converge\n",
      "  warn('The line search algorithm did not converge', LineSearchWarning)\n",
      "C:\\Users\\utilisateur\\Anaconda3\\lib\\site-packages\\sklearn\\utils\\optimize.py:195: UserWarning: Line Search failed\n",
      "  warnings.warn('Line Search failed')\n"
     ]
    }
   ],
   "source": [
    "result = pd.DataFrame(bruteforce(data), columns=['comb', 'score', 'auc', 'fp', 'tn'])"
   ]
  },
  {
   "cell_type": "code",
   "execution_count": 333,
   "metadata": {},
   "outputs": [
    {
     "data": {
      "text/html": [
       "<div>\n",
       "<style scoped>\n",
       "    .dataframe tbody tr th:only-of-type {\n",
       "        vertical-align: middle;\n",
       "    }\n",
       "\n",
       "    .dataframe tbody tr th {\n",
       "        vertical-align: top;\n",
       "    }\n",
       "\n",
       "    .dataframe thead th {\n",
       "        text-align: right;\n",
       "    }\n",
       "</style>\n",
       "<table border=\"1\" class=\"dataframe\">\n",
       "  <thead>\n",
       "    <tr style=\"text-align: right;\">\n",
       "      <th></th>\n",
       "      <th>comb</th>\n",
       "      <th>score</th>\n",
       "      <th>auc</th>\n",
       "      <th>fp</th>\n",
       "      <th>tn</th>\n",
       "    </tr>\n",
       "  </thead>\n",
       "  <tbody>\n",
       "    <tr>\n",
       "      <th>27189</th>\n",
       "      <td>(Pclass, Age, SibSp, Sex_female, Age_categorie...</td>\n",
       "      <td>0.876404</td>\n",
       "      <td>0.892038</td>\n",
       "      <td>9</td>\n",
       "      <td>13</td>\n",
       "    </tr>\n",
       "  </tbody>\n",
       "</table>\n",
       "</div>"
      ],
      "text/plain": [
       "                                                    comb     score       auc  \\\n",
       "27189  (Pclass, Age, SibSp, Sex_female, Age_categorie...  0.876404  0.892038   \n",
       "\n",
       "       fp  tn  \n",
       "27189   9  13  "
      ]
     },
     "execution_count": 333,
     "metadata": {},
     "output_type": "execute_result"
    }
   ],
   "source": [
    "max_score = result[result['score'] == result['score'].max()]\n",
    "max_score[max_score['auc'] == max_score['auc'].max()]"
   ]
  },
  {
   "cell_type": "code",
   "execution_count": 334,
   "metadata": {},
   "outputs": [
    {
     "name": "stdout",
     "output_type": "stream",
     "text": [
      "              precision    recall  f1-score   support\n",
      "\n",
      "           0       0.88      0.87      0.88       119\n",
      "           1       0.75      0.76      0.76        59\n",
      "\n",
      "    accuracy                           0.84       178\n",
      "   macro avg       0.82      0.82      0.82       178\n",
      "weighted avg       0.84      0.84      0.84       178\n",
      "\n",
      "0.8370786516853933 \n",
      "\n",
      "        prédit 0  prédit 1\n",
      "vrai 0       104        15\n",
      "vrai 1        14        45\n"
     ]
    },
    {
     "data": {
      "image/png": "[encoded data removed]",
      "text/plain": [
       "<Figure size 432x432 with 1 Axes>"
      ]
     },
     "metadata": {
      "needs_background": "light"
     },
     "output_type": "display_data"
    }
   ],
   "source": [
    "col=['Pclass', 'Age', 'SibSp', 'Parch', 'Sex_female', 'Age_categories_Infant', 'Age_categories_Senior', 'Embarked_Q']\n",
    "logisticeModel(col)"
   ]
  },
  {
   "cell_type": "markdown",
   "metadata": {},
   "source": [
    "***Après avoir essayé différentes méthodes de sélection d'entités, nous concluons que la meilleure méthode pour l'ensemble de données dans notre main est RFE car elle nous donne la meilleure précision (87).***"
   ]
  }
 ],
 "metadata": {
  "kernelspec": {
   "display_name": "Python 3",
   "language": "python",
   "name": "python3"
  },
  "language_info": {
   "codemirror_mode": {
    "name": "ipython",
    "version": 3
   },
   "file_extension": ".py",
   "mimetype": "text/x-python",
   "name": "python",
   "nbconvert_exporter": "python",
   "pygments_lexer": "ipython3",
   "version": "3.7.4"
  }
 },
 "nbformat": 4,
 "nbformat_minor": 2
}
