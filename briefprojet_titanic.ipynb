{
 "cells": [
  {
   "cell_type": "markdown",
   "metadata": {},
   "source": [
    "# Introduction\n",
    "\n",
    "L’objectif de ce brief projet est de retracer scientifiquement l’histoire du naufrage du Titanic en utilisant les données disponibles sur le Kaggle.\n",
    "\n",
    "Il vous est demandé de mettre en œuvre une démarche complète d’exploitation de données allant de la compréhension du besoin jusqu’à l’évaluation des modèles élaborés en passant par une phase de préparation et d’analyse de données."
   ]
  },
  {
   "cell_type": "markdown",
   "metadata": {},
   "source": [
    "# Mise en oeuvre\n",
    "## 1. Préparations des données\n",
    "\n",
    "Les données sont à télécharger sur [Kaggle Titanic](https://www.kaggle.com/c/titanic/data). Vous disposez de deux jeux de données : \n",
    "    - train : jeu d'apprentissage\n",
    "    - test : jeu de test\n",
    "    \n",
    "#### Fichier 'clean_bdd.ipynb'"
   ]
  },
  {
   "cell_type": "markdown",
   "metadata": {},
   "source": [
    "## 2. Exploration des données\n",
    "### Data visualisation : \n",
    "#### Fichiers 'visualisation_interactive' & 'visualisation.ipynb'\n",
    "### Tests d'hypothèses :\n",
    "#### Fichier 'TESTS D'HYPOTHESES.ipynb'"
   ]
  },
  {
   "cell_type": "markdown",
   "metadata": {},
   "source": [
    "## 3. Machine learning\n",
    "### Régression linéaire :\n",
    "#### Fichier\n",
    "### Régression logistique :\n",
    "#### Fichier "
   ]
  },
  {
   "cell_type": "code",
   "execution_count": null,
   "metadata": {},
   "outputs": [],
   "source": []
  }
 ],
 "metadata": {
  "kernelspec": {
   "display_name": "Python 3",
   "language": "python",
   "name": "python3"
  },
  "language_info": {
   "codemirror_mode": {
    "name": "ipython",
    "version": 3
   },
   "file_extension": ".py",
   "mimetype": "text/x-python",
   "name": "python",
   "nbconvert_exporter": "python",
   "pygments_lexer": "ipython3",
   "version": "3.7.4"
  }
 },
 "nbformat": 4,
 "nbformat_minor": 2
}
